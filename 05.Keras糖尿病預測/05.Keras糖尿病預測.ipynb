{
  "nbformat": 4,
  "nbformat_minor": 0,
  "metadata": {
    "colab": {
      "name": "04.Keras糖尿病預測.ipynb",
      "provenance": [],
      "collapsed_sections": [],
      "toc_visible": true,
      "authorship_tag": "ABX9TyNrruhLgbEnH1QhkMGwVa7f",
      "include_colab_link": true
    },
    "kernelspec": {
      "name": "python3",
      "display_name": "Python 3"
    }
  },
  "cells": [
    {
      "cell_type": "markdown",
      "metadata": {
        "id": "view-in-github",
        "colab_type": "text"
      },
      "source": [
        "<a href=\"https://colab.research.google.com/drive/1RjvgCt_QUPB7CQVTQ7DHL6qzfdfR1EYx\" target=\"_parent\"><img src=\"https://colab.research.google.com/assets/colab-badge.svg\" alt=\"Open In Colab\"/></a>"
      ]
    },
    {
      "cell_type": "code",
      "metadata": {
        "id": "347WPC7VnGia",
        "colab_type": "code",
        "colab": {}
      },
      "source": [
        "import numpy as np\n",
        "import pandas as pd"
      ],
      "execution_count": 0,
      "outputs": []
    },
    {
      "cell_type": "code",
      "metadata": {
        "id": "CrXuYSzSnHPn",
        "colab_type": "code",
        "colab": {}
      },
      "source": [
        "from keras.models import Sequential  #匯入Sequential模型和Dense層\n",
        "from keras.layers import Dense"
      ],
      "execution_count": 0,
      "outputs": []
    },
    {
      "cell_type": "code",
      "metadata": {
        "id": "5cF1Gs73nIh9",
        "colab_type": "code",
        "colab": {}
      },
      "source": [
        "df = pd.read_csv('diabetes.csv')\n",
        "dataset = df.values\n",
        "np.random.shuffle(dataset)   #亂數打散資料順序"
      ],
      "execution_count": 0,
      "outputs": []
    },
    {
      "cell_type": "code",
      "metadata": {
        "id": "Ue1EoCwknUJs",
        "colab_type": "code",
        "colab": {}
      },
      "source": [
        "X = dataset[:, 0:8]   #前8個欄位為特徵資料\n",
        "Y = dataset[:, 8]     #最後1個欄位為目標標籤資料集"
      ],
      "execution_count": 0,
      "outputs": []
    },
    {
      "cell_type": "code",
      "metadata": {
        "id": "ZC6c_4dNniWd",
        "colab_type": "code",
        "colab": {}
      },
      "source": [
        "model = Sequential()   #建立Sequential物件\n",
        "model.add(Dense(10, input_shape=(8,), activation=\"relu\"))   #unit,input_shape,activation分別代表10個神經元、輸入資料維度8、激活函數用relu"
      ],
      "execution_count": 0,
      "outputs": []
    },
    {
      "cell_type": "code",
      "metadata": {
        "id": "VswXE3LLoRNE",
        "colab_type": "code",
        "colab": {}
      },
      "source": [
        "model.add(Dense(8, activation=\"relu\"))   #新增第2層隱藏層，8個神經元"
      ],
      "execution_count": 0,
      "outputs": []
    },
    {
      "cell_type": "code",
      "metadata": {
        "id": "vCaSHpDLocpb",
        "colab_type": "code",
        "colab": {}
      },
      "source": [
        "model.add(Dense(1, activation=\"sigmoid\")) #輸出層，Sigmoid"
      ],
      "execution_count": 0,
      "outputs": []
    },
    {
      "cell_type": "code",
      "metadata": {
        "id": "SdqE5C1sot6j",
        "colab_type": "code",
        "colab": {
          "base_uri": "https://localhost:8080/",
          "height": 286
        },
        "outputId": "40788ca4-0f6d-4dfd-d2b8-54c5c685d70c"
      },
      "source": [
        "model.summary()"
      ],
      "execution_count": 12,
      "outputs": [
        {
          "output_type": "stream",
          "text": [
            "Model: \"sequential_1\"\n",
            "_________________________________________________________________\n",
            "Layer (type)                 Output Shape              Param #   \n",
            "=================================================================\n",
            "dense_1 (Dense)              (None, 10)                90        \n",
            "_________________________________________________________________\n",
            "dense_2 (Dense)              (None, 8)                 88        \n",
            "_________________________________________________________________\n",
            "dense_3 (Dense)              (None, 8)                 72        \n",
            "_________________________________________________________________\n",
            "dense_4 (Dense)              (None, 1)                 9         \n",
            "=================================================================\n",
            "Total params: 259\n",
            "Trainable params: 259\n",
            "Non-trainable params: 0\n",
            "_________________________________________________________________\n"
          ],
          "name": "stdout"
        }
      ]
    },
    {
      "cell_type": "code",
      "metadata": {
        "id": "6zKvWCGfowVT",
        "colab_type": "code",
        "colab": {
          "base_uri": "https://localhost:8080/",
          "height": 154
        },
        "outputId": "1e5b39db-388c-4cfb-ca0c-f848179ca1c1"
      },
      "source": [
        "model.compile(loss=\"binary_crossentropy\", optimizer=\"sgd\",\n",
        "              metrics=[\"accuracy\"])"
      ],
      "execution_count": 13,
      "outputs": [
        {
          "output_type": "stream",
          "text": [
            "WARNING:tensorflow:From /usr/local/lib/python3.6/dist-packages/keras/optimizers.py:793: The name tf.train.Optimizer is deprecated. Please use tf.compat.v1.train.Optimizer instead.\n",
            "\n",
            "WARNING:tensorflow:From /usr/local/lib/python3.6/dist-packages/keras/backend/tensorflow_backend.py:3657: The name tf.log is deprecated. Please use tf.math.log instead.\n",
            "\n",
            "WARNING:tensorflow:From /usr/local/lib/python3.6/dist-packages/tensorflow_core/python/ops/nn_impl.py:183: where (from tensorflow.python.ops.array_ops) is deprecated and will be removed in a future version.\n",
            "Instructions for updating:\n",
            "Use tf.where in 2.0, which has the same broadcast rule as np.where\n"
          ],
          "name": "stdout"
        }
      ]
    },
    {
      "cell_type": "code",
      "metadata": {
        "id": "uCt0XM6ypQ6q",
        "colab_type": "code",
        "colab": {}
      },
      "source": [
        "model.fit(X, Y, epochs=150, batch_size=10) #訓練模型"
      ],
      "execution_count": 0,
      "outputs": []
    },
    {
      "cell_type": "code",
      "metadata": {
        "id": "tIUV33sbpfaS",
        "colab_type": "code",
        "colab": {
          "base_uri": "https://localhost:8080/",
          "height": 67
        },
        "outputId": "39aec97d-d07e-453e-e4b3-6fa09439f580"
      },
      "source": [
        "loss, accuracy = model.evaluate(X, Y)         \n",
        "print(\"loss = {:.2f}\".format(loss))\n",
        "print(\"準確度 = {:.2f}\".format(accuracy))"
      ],
      "execution_count": 16,
      "outputs": [
        {
          "output_type": "stream",
          "text": [
            "768/768 [==============================] - 0s 41us/step\n",
            "loss = 5.62\n",
            "準確度 = 0.65\n"
          ],
          "name": "stdout"
        }
      ]
    },
    {
      "cell_type": "code",
      "metadata": {
        "id": "B3qABCbLpxvA",
        "colab_type": "code",
        "colab": {}
      },
      "source": [
        "X -= X.mean(axis=0)     #先減掉平均值，再除以標準差，可以將數值移位成平均值0，標準差1的資料分布\n",
        "X /= X.std(axis=0)      "
      ],
      "execution_count": 0,
      "outputs": []
    },
    {
      "cell_type": "code",
      "metadata": {
        "id": "ztfgXJ0iqRUg",
        "colab_type": "code",
        "colab": {
          "base_uri": "https://localhost:8080/",
          "height": 34
        },
        "outputId": "344f050d-a01f-4355-e1db-6883041686e0"
      },
      "source": [
        "model.fit(X, Y, epochs=150, batch_size=10, verbose=0)      #verbose=0不顯示訓練狀況；=1會顯示所有損失和準確度；=2會顯示每一次訓練週期的資料"
      ],
      "execution_count": 18,
      "outputs": [
        {
          "output_type": "execute_result",
          "data": {
            "text/plain": [
              "<keras.callbacks.History at 0x7fbe011d79b0>"
            ]
          },
          "metadata": {
            "tags": []
          },
          "execution_count": 18
        }
      ]
    },
    {
      "cell_type": "code",
      "metadata": {
        "id": "PNbs-pWcqcVn",
        "colab_type": "code",
        "colab": {
          "base_uri": "https://localhost:8080/",
          "height": 67
        },
        "outputId": "df24352c-b9a2-4169-a9e2-58597e4b13bc"
      },
      "source": [
        "loss, accuracy = model.evaluate(X, Y)         \n",
        "print(\"loss = {:.2f}\".format(loss))\n",
        "print(\"準確度 = {:.2f}\".format(accuracy))      #準確度提升到0.79！"
      ],
      "execution_count": 19,
      "outputs": [
        {
          "output_type": "stream",
          "text": [
            "768/768 [==============================] - 0s 27us/step\n",
            "loss = 0.42\n",
            "準確度 = 0.79\n"
          ],
          "name": "stdout"
        }
      ]
    },
    {
      "cell_type": "code",
      "metadata": {
        "id": "33hOyPZcqk2P",
        "colab_type": "code",
        "colab": {}
      },
      "source": [
        "from keras.utils import to_categorical  #進行 One-hot Encoding\n",
        "Y = to_categorical(Y)"
      ],
      "execution_count": 0,
      "outputs": []
    },
    {
      "cell_type": "code",
      "metadata": {
        "id": "S8z8sE1IrLio",
        "colab_type": "code",
        "colab": {}
      },
      "source": [
        "model = Sequential()\n",
        "model.add(Dense(10, input_shape=(8, ), activation=\"relu\"))\n",
        "model.add(Dense(8, activation=\"relu\"))\n",
        "model.add(Dense(2, activation=\"softmax\"))          #改用softmax\n",
        "\n"
      ],
      "execution_count": 0,
      "outputs": []
    },
    {
      "cell_type": "code",
      "metadata": {
        "id": "o0KYdCT7rfOm",
        "colab_type": "code",
        "colab": {
          "base_uri": "https://localhost:8080/",
          "height": 67
        },
        "outputId": "0d23a237-c80b-42c4-d534-07bc6df1d7c0"
      },
      "source": [
        "model.compile(loss=\"binary_crossentropy\", optimizer=\"sgd\",\n",
        "              metrics=[\"accuracy\"])\n",
        "\n",
        "model.fit(X, Y, epochs=150, batch_size=10, verbose=0)      #verbose=0不顯示訓練狀況；=1會顯示所有損失和準確度；=2會顯示每一次訓練週期的資料\n",
        "\n",
        "loss, accuracy = model.evaluate(X, Y)         \n",
        "print(\"loss = {:.2f}\".format(loss))\n",
        "print(\"準確度 = {:.2f}\".format(accuracy))      #準確度提升0.01至0.80！"
      ],
      "execution_count": 23,
      "outputs": [
        {
          "output_type": "stream",
          "text": [
            "768/768 [==============================] - 0s 81us/step\n",
            "loss = 0.41\n",
            "準確度 = 0.80\n"
          ],
          "name": "stdout"
        }
      ]
    },
    {
      "cell_type": "code",
      "metadata": {
        "id": "dSXcD4-brg7W",
        "colab_type": "code",
        "colab": {}
      },
      "source": [
        "#使用初始器\n",
        "\n",
        "model = Sequential()\n",
        "\n",
        "\n",
        "#kernal_initializer初始神經層的權重矩陣、bias_initializer初始偏向量的值(zeros代表0,ones代表1)\n",
        "\n",
        "model.add(Dense(10, input_shape=(8, ),kernel_initializer=\"random_uniform\",bias_initializer=\"ones\",activation=\"relu\"))\n",
        "model.add(Dense(8, input_shape=(8, ),kernel_initializer=\"random_uniform\",bias_initializer=\"ones\",activation=\"relu\"))\n",
        "model.add(Dense(2, input_shape=(8, ),kernel_initializer=\"random_uniform\",bias_initializer=\"ones\",activation=\"softmax\"))"
      ],
      "execution_count": 0,
      "outputs": []
    },
    {
      "cell_type": "code",
      "metadata": {
        "id": "8wLaboiqsb8w",
        "colab_type": "code",
        "colab": {
          "base_uri": "https://localhost:8080/",
          "height": 67
        },
        "outputId": "dd106263-b7a6-438c-c0cb-50c66b791127"
      },
      "source": [
        "model.compile(loss=\"binary_crossentropy\", optimizer=\"sgd\",\n",
        "              metrics=[\"accuracy\"])\n",
        "\n",
        "model.fit(X, Y, epochs=150, batch_size=10, verbose=0)      #verbose=0不顯示訓練狀況；=1會顯示所有損失和準確度；=2會顯示每一次訓練週期的資料\n",
        "\n",
        "loss, accuracy = model.evaluate(X, Y)         \n",
        "print(\"loss = {:.2f}\".format(loss))\n",
        "print(\"準確度 = {:.2f}\".format(accuracy))      #準確度0.78！"
      ],
      "execution_count": 27,
      "outputs": [
        {
          "output_type": "stream",
          "text": [
            "768/768 [==============================] - 0s 92us/step\n",
            "loss = 0.46\n",
            "準確度 = 0.78\n"
          ],
          "name": "stdout"
        }
      ]
    },
    {
      "cell_type": "code",
      "metadata": {
        "id": "fDErcQ_Qs6qc",
        "colab_type": "code",
        "colab": {
          "base_uri": "https://localhost:8080/",
          "height": 67
        },
        "outputId": "0e7109ea-80c3-43ed-9d19-7f9d81ec7b53"
      },
      "source": [
        "model.compile(loss=\"binary_crossentropy\", optimizer=\"adam\",  #優化器改成adam\n",
        "              metrics=[\"accuracy\"])\n",
        "\n",
        "model.fit(X, Y, epochs=150, batch_size=10, verbose=0)      #verbose=0不顯示訓練狀況；=1會顯示所有損失和準確度；=2會顯示每一次訓練週期的資料\n",
        "\n",
        "loss, accuracy = model.evaluate(X, Y)         \n",
        "print(\"loss = {:.2f}\".format(loss))\n",
        "print(\"準確度 = {:.2f}\".format(accuracy))      #準確度0.80！"
      ],
      "execution_count": 28,
      "outputs": [
        {
          "output_type": "stream",
          "text": [
            "768/768 [==============================] - 0s 110us/step\n",
            "loss = 0.43\n",
            "準確度 = 0.80\n"
          ],
          "name": "stdout"
        }
      ]
    },
    {
      "cell_type": "code",
      "metadata": {
        "id": "770A8o6mtIbU",
        "colab_type": "code",
        "colab": {
          "base_uri": "https://localhost:8080/",
          "height": 608
        },
        "outputId": "2e5e726f-c0b3-42a4-a5ef-6677543869b5"
      },
      "source": [
        "model.add(Dense(10, input_shape=(8, ),activation=\"relu\"))\n",
        "model.add(Dense(6,activation=\"relu\"))\n",
        "model.add(Dense(2,activation=\"softmax\"))\n",
        "model.summary()"
      ],
      "execution_count": 46,
      "outputs": [
        {
          "output_type": "stream",
          "text": [
            "Model: \"sequential_4\"\n",
            "_________________________________________________________________\n",
            "Layer (type)                 Output Shape              Param #   \n",
            "=================================================================\n",
            "dense_8 (Dense)              (None, 10)                90        \n",
            "_________________________________________________________________\n",
            "dense_9 (Dense)              (None, 8)                 88        \n",
            "_________________________________________________________________\n",
            "dense_10 (Dense)             (None, 2)                 18        \n",
            "_________________________________________________________________\n",
            "dense_11 (Dense)             (None, 10)                30        \n",
            "_________________________________________________________________\n",
            "dense_12 (Dense)             (None, 6)                 66        \n",
            "_________________________________________________________________\n",
            "dense_13 (Dense)             (None, 2)                 14        \n",
            "_________________________________________________________________\n",
            "dense_14 (Dense)             (None, 10)                30        \n",
            "_________________________________________________________________\n",
            "dense_15 (Dense)             (None, 6)                 66        \n",
            "_________________________________________________________________\n",
            "dense_16 (Dense)             (None, 2)                 14        \n",
            "_________________________________________________________________\n",
            "dense_17 (Dense)             (None, 10)                30        \n",
            "_________________________________________________________________\n",
            "dense_18 (Dense)             (None, 6)                 66        \n",
            "_________________________________________________________________\n",
            "dense_19 (Dense)             (None, 2)                 14        \n",
            "=================================================================\n",
            "Total params: 416\n",
            "Trainable params: 416\n",
            "Non-trainable params: 0\n",
            "_________________________________________________________________\n"
          ],
          "name": "stdout"
        },
        {
          "output_type": "stream",
          "text": [
            "/usr/local/lib/python3.6/dist-packages/keras/engine/training.py:493: UserWarning: Discrepancy between trainable weights and collected trainable weights, did you set `model.trainable` without calling `model.compile` after ?\n",
            "  'Discrepancy between trainable weights and collected trainable'\n"
          ],
          "name": "stderr"
        }
      ]
    },
    {
      "cell_type": "code",
      "metadata": {
        "id": "VP40A4kEtgUb",
        "colab_type": "code",
        "colab": {
          "base_uri": "https://localhost:8080/",
          "height": 67
        },
        "outputId": "66b77908-12ff-45c7-b127-8213357a6b22"
      },
      "source": [
        "model.compile(loss=\"binary_crossentropy\", optimizer=\"adam\",  #優化器改成adam\n",
        "              metrics=[\"accuracy\"])\n",
        "\n",
        "model.fit(X, Y, epochs=150, batch_size=10, verbose=0)      #verbose=0不顯示訓練狀況；=1會顯示所有損失和準確度；=2會顯示每一次訓練週期的資料\n",
        "\n",
        "loss, accuracy = model.evaluate(X, Y)         \n",
        "print(\"loss = {:.2f}\".format(loss))\n",
        "print(\"準確度 = {:.2f}\".format(accuracy))      #準確度0.81！"
      ],
      "execution_count": 47,
      "outputs": [
        {
          "output_type": "stream",
          "text": [
            "768/768 [==============================] - 0s 289us/step\n",
            "loss = 0.35\n",
            "準確度 = 0.82\n"
          ],
          "name": "stdout"
        }
      ]
    },
    {
      "cell_type": "code",
      "metadata": {
        "id": "wIiH2bmktisb",
        "colab_type": "code",
        "colab": {}
      },
      "source": [
        "X_train, Y_train = X[:690], Y[:690] #前690筆訓練資料\n",
        "X_test, Y_test = X[690:], Y[690:] #後78筆訓練資料       #使用df.shape可看到資料總筆數"
      ],
      "execution_count": 0,
      "outputs": []
    },
    {
      "cell_type": "code",
      "metadata": {
        "id": "jYv2F-DpuEn6",
        "colab_type": "code",
        "colab": {
          "base_uri": "https://localhost:8080/",
          "height": 34
        },
        "outputId": "eee29e25-6104-434c-8ea1-6b2c5f11ff27"
      },
      "source": [
        "model.fit(X_train, Y_train, epochs=150, batch_size=10, verbose=0)"
      ],
      "execution_count": 34,
      "outputs": [
        {
          "output_type": "execute_result",
          "data": {
            "text/plain": [
              "<keras.callbacks.History at 0x7fbdecb12eb8>"
            ]
          },
          "metadata": {
            "tags": []
          },
          "execution_count": 34
        }
      ]
    },
    {
      "cell_type": "code",
      "metadata": {
        "id": "7j0Mx-LguNti",
        "colab_type": "code",
        "colab": {
          "base_uri": "https://localhost:8080/",
          "height": 168
        },
        "outputId": "581e8dab-2a0e-4ce2-d949-b001cc377f3f"
      },
      "source": [
        "loss, accuracy = model.evaluate(X_train, Y_train)         \n",
        "print(\"訓練資料集資訊：\")\n",
        "print(\"loss = {:.2f}\".format(loss))\n",
        "print(\"準確度 = {:.2f}\".format(accuracy))      #準確度0.83！\n",
        "print(\"-------------------------------------------\")\n",
        "loss, accuracy = model.evaluate(X_test, Y_test)\n",
        "print(\"測試資料集資訊：\")\n",
        "print(\"loss = {:.2f}\".format(loss))\n",
        "print(\"準確度 = {:.2f}\".format(accuracy))      #準確度0.81！"
      ],
      "execution_count": 37,
      "outputs": [
        {
          "output_type": "stream",
          "text": [
            "690/690 [==============================] - 0s 35us/step\n",
            "訓練資料集資訊：\n",
            "loss = 0.38\n",
            "準確度 = 0.83\n",
            "-------------------------------------------\n",
            "78/78 [==============================] - 0s 62us/step\n",
            "測試資料集資訊：\n",
            "loss = 0.45\n",
            "準確度 = 0.81\n"
          ],
          "name": "stdout"
        }
      ]
    },
    {
      "cell_type": "code",
      "metadata": {
        "id": "IUSOMOiMuWCi",
        "colab_type": "code",
        "colab": {}
      },
      "source": [
        "#驗證資料集\n",
        "\n",
        "history = model.fit(X_train, Y_train,\n",
        "                    validation_data = (X_test, Y_test),\n",
        "                    epochs=150, batch_size=10)"
      ],
      "execution_count": 0,
      "outputs": []
    },
    {
      "cell_type": "code",
      "metadata": {
        "id": "Ctu31Er2vC1L",
        "colab_type": "code",
        "colab": {
          "base_uri": "https://localhost:8080/",
          "height": 168
        },
        "outputId": "4c7d30d4-8b72-470d-d852-09330910aeae"
      },
      "source": [
        "loss, accuracy = model.evaluate(X_train, Y_train)         \n",
        "print(\"訓練資料集資訊：\")\n",
        "print(\"loss = {:.2f}\".format(loss))\n",
        "print(\"準確度 = {:.2f}\".format(accuracy))      #準確度0.84！\n",
        "print(\"-------------------------------------------\")\n",
        "loss, accuracy = model.evaluate(X_test, Y_test)\n",
        "print(\"測試資料集資訊：\")\n",
        "print(\"loss = {:.2f}\".format(loss))\n",
        "print(\"準確度 = {:.2f}\".format(accuracy))      #準確度0.79！"
      ],
      "execution_count": 48,
      "outputs": [
        {
          "output_type": "stream",
          "text": [
            "690/690 [==============================] - 0s 33us/step\n",
            "訓練資料集資訊：\n",
            "loss = 0.36\n",
            "準確度 = 0.82\n",
            "-------------------------------------------\n",
            "78/78 [==============================] - 0s 128us/step\n",
            "測試資料集資訊：\n",
            "loss = 0.30\n",
            "準確度 = 0.81\n"
          ],
          "name": "stdout"
        }
      ]
    },
    {
      "cell_type": "code",
      "metadata": {
        "id": "KOpfclmrvMGR",
        "colab_type": "code",
        "colab": {
          "base_uri": "https://localhost:8080/",
          "height": 295
        },
        "outputId": "d9e1aa04-62ad-4342-9dbb-5e1250a5d049"
      },
      "source": [
        "import matplotlib.pyplot as plt\n",
        "loss = history.history[\"loss\"]\n",
        "epochs = range(1, len(loss)+1)\n",
        "val_loss = history.history[\"val_loss\"]\n",
        "plt.plot(epochs, loss, \"bo\", label =\"Training Loss\")\n",
        "plt.plot(epochs, val_loss, \"r\", label =\"Validation Loss\")\n",
        "plt.title(\"Training and Validation Loss\")\n",
        "plt.xlabel(\"Epochs\")\n",
        "plt.ylabel(\"Loss\")\n",
        "plt.legend()\n",
        "plt.show()"
      ],
      "execution_count": 49,
      "outputs": [
        {
          "output_type": "display_data",
          "data": {
            "image/png": "[encoded data removed]",
            "text/plain": [
              "<Figure size 432x288 with 1 Axes>"
            ]
          },
          "metadata": {
            "tags": []
          }
        }
      ]
    },
    {
      "cell_type": "code",
      "metadata": {
        "id": "Nx1QUaKkvxlo",
        "colab_type": "code",
        "colab": {
          "base_uri": "https://localhost:8080/",
          "height": 295
        },
        "outputId": "fe522e16-4d89-48cb-ac76-7867edf55117"
      },
      "source": [
        "acc = history.history[\"acc\"]\n",
        "epochs = range(1, len(acc)+1)\n",
        "val_acc = history.history[\"val_acc\"]\n",
        "plt.plot(epochs, acc, \"b-\", label =\"Training Acc\")\n",
        "plt.plot(epochs, val_acc, \"r--\", label =\"Validation Acc\")\n",
        "plt.title(\"Training and Validation Accuracy\")\n",
        "plt.xlabel(\"Epochs\")\n",
        "plt.ylabel(\"Accuracy\")\n",
        "plt.legend()\n",
        "plt.show()"
      ],
      "execution_count": 50,
      "outputs": [
        {
          "output_type": "display_data",
          "data": {
            "image/png": "[encoded data removed]",
            "text/plain": [
              "<Figure size 432x288 with 1 Axes>"
            ]
          },
          "metadata": {
            "tags": []
          }
        }
      ]
    },
    {
      "cell_type": "code",
      "metadata": {
        "id": "jqVPtyjDwNGv",
        "colab_type": "code",
        "colab": {
          "base_uri": "https://localhost:8080/",
          "height": 504
        },
        "outputId": "83697b2d-7486-4f17-8779-6db64bd91dd8"
      },
      "source": [
        "history = model.fit(X_train, Y_train, validation_split=0.2,   #自動切割成80:20\n",
        "                    epochs=14, batch_size=10)"
      ],
      "execution_count": 51,
      "outputs": [
        {
          "output_type": "stream",
          "text": [
            "Train on 552 samples, validate on 138 samples\n",
            "Epoch 1/14\n",
            "552/552 [==============================] - 0s 257us/step - loss: 0.3819 - acc: 0.8062 - val_loss: 0.3803 - val_acc: 0.7971\n",
            "Epoch 2/14\n",
            "552/552 [==============================] - 0s 199us/step - loss: 0.3697 - acc: 0.8207 - val_loss: 0.3858 - val_acc: 0.8261\n",
            "Epoch 3/14\n",
            "552/552 [==============================] - 0s 219us/step - loss: 0.3564 - acc: 0.8225 - val_loss: 0.4011 - val_acc: 0.8188\n",
            "Epoch 4/14\n",
            "552/552 [==============================] - 0s 232us/step - loss: 0.3581 - acc: 0.8261 - val_loss: 0.4243 - val_acc: 0.8043\n",
            "Epoch 5/14\n",
            "552/552 [==============================] - 0s 273us/step - loss: 0.3578 - acc: 0.8351 - val_loss: 0.3858 - val_acc: 0.8188\n",
            "Epoch 6/14\n",
            "552/552 [==============================] - 0s 257us/step - loss: 0.3505 - acc: 0.8370 - val_loss: 0.4331 - val_acc: 0.8116\n",
            "Epoch 7/14\n",
            "552/552 [==============================] - 0s 255us/step - loss: 0.3542 - acc: 0.8297 - val_loss: 0.4228 - val_acc: 0.8188\n",
            "Epoch 8/14\n",
            "552/552 [==============================] - 0s 243us/step - loss: 0.3556 - acc: 0.8279 - val_loss: 0.4434 - val_acc: 0.7971\n",
            "Epoch 9/14\n",
            "552/552 [==============================] - 0s 204us/step - loss: 0.3646 - acc: 0.8351 - val_loss: 0.4317 - val_acc: 0.8043\n",
            "Epoch 10/14\n",
            "552/552 [==============================] - 0s 207us/step - loss: 0.3630 - acc: 0.8315 - val_loss: 0.4264 - val_acc: 0.8261\n",
            "Epoch 11/14\n",
            "552/552 [==============================] - 0s 203us/step - loss: 0.3545 - acc: 0.8315 - val_loss: 0.4337 - val_acc: 0.8333\n",
            "Epoch 12/14\n",
            "552/552 [==============================] - 0s 221us/step - loss: 0.3601 - acc: 0.8406 - val_loss: 0.4248 - val_acc: 0.8043\n",
            "Epoch 13/14\n",
            "552/552 [==============================] - 0s 259us/step - loss: 0.3535 - acc: 0.8370 - val_loss: 0.5095 - val_acc: 0.7681\n",
            "Epoch 14/14\n",
            "552/552 [==============================] - 0s 255us/step - loss: 0.3649 - acc: 0.8062 - val_loss: 0.4402 - val_acc: 0.7971\n"
          ],
          "name": "stdout"
        }
      ]
    },
    {
      "cell_type": "code",
      "metadata": {
        "id": "0ARoBxxzww0o",
        "colab_type": "code",
        "colab": {
          "base_uri": "https://localhost:8080/",
          "height": 168
        },
        "outputId": "7aa6db5c-be4e-431d-bcfa-4091dc6aa71b"
      },
      "source": [
        "loss, accuracy = model.evaluate(X_train, Y_train)         \n",
        "print(\"訓練資料集資訊：\")\n",
        "print(\"loss = {:.2f}\".format(loss))\n",
        "print(\"準確度 = {:.2f}\".format(accuracy))      #準確度0.82！\n",
        "print(\"-------------------------------------------\")\n",
        "loss, accuracy = model.evaluate(X_test, Y_test)\n",
        "print(\"測試資料集資訊：\")\n",
        "print(\"loss = {:.2f}\".format(loss))\n",
        "print(\"準確度 = {:.2f}\".format(accuracy))      #準確度0.81！\n",
        "\n",
        "#Training loss和Validation loss相當接近，準確度只差0.01"
      ],
      "execution_count": 52,
      "outputs": [
        {
          "output_type": "stream",
          "text": [
            "690/690 [==============================] - 0s 42us/step\n",
            "訓練資料集資訊：\n",
            "loss = 0.36\n",
            "準確度 = 0.82\n",
            "-------------------------------------------\n",
            "78/78 [==============================] - 0s 85us/step\n",
            "測試資料集資訊：\n",
            "loss = 0.40\n",
            "準確度 = 0.81\n"
          ],
          "name": "stdout"
        }
      ]
    },
    {
      "cell_type": "code",
      "metadata": {
        "id": "zNuCpqE6w6YW",
        "colab_type": "code",
        "colab": {
          "base_uri": "https://localhost:8080/",
          "height": 101
        },
        "outputId": "0cad1696-e720-4581-ebf4-a16cb369ae4a"
      },
      "source": [
        "import numpy as np\n",
        "import pandas as pd\n",
        "from keras.models import Sequential\n",
        "from keras.layers import Dense\n",
        "\n",
        "np.random.seed(10)  # 指定亂數種子\n",
        "# 載入糖尿病資料集\n",
        "df = pd.read_csv(\"./diabetes.csv\")\n",
        "dataset = df.values\n",
        "np.random.shuffle(dataset)  # 使用亂數打亂資料\n",
        "# 分割成特徵資料和標籤資料\n",
        "X = dataset[:, 0:8]\n",
        "Y = dataset[:, 8]\n",
        "# 特徵標準化\n",
        "X -= X.mean(axis=0)\n",
        "X /= X.std(axis=0)\n",
        "# 分割訓練和測試資料集\n",
        "X_train, Y_train = X[:690], Y[:690]     # 訓練資料前690筆\n",
        "X_test, Y_test = X[690:], Y[690:]       # 測試資料後78筆\n",
        "# 定義模型\n",
        "model = Sequential()\n",
        "model.add(Dense(8, input_shape=(8,), activation=\"relu\"))\n",
        "model.add(Dense(8, activation=\"relu\"))\n",
        "model.add(Dense(1, activation=\"sigmoid\"))\n",
        "# 編譯模型\n",
        "model.compile(loss=\"binary_crossentropy\", optimizer=\"adam\", \n",
        "              metrics=[\"accuracy\"])\n",
        "# 訓練模型\n",
        "model.fit(X_train, Y_train, epochs=10, batch_size=10, verbose=0)\n",
        "# 評估模型\n",
        "loss, accuracy = model.evaluate(X_train, Y_train)\n",
        "print(\"訓練資料集的準確度 = {:.2f}\".format(accuracy))\n",
        "loss, accuracy = model.evaluate(X_test, Y_test)\n",
        "print(\"測試資料集的準確度 = {:.2f}\".format(accuracy))\n",
        "# 測試資料集的預測值\n",
        "Y_pred = model.predict_classes(X_test, batch_size=10, verbose=0)\n",
        "print(Y_pred[0], Y_pred[1])  #第0筆不會得糖尿病、第1筆會得糖尿病"
      ],
      "execution_count": 59,
      "outputs": [
        {
          "output_type": "stream",
          "text": [
            "690/690 [==============================] - 0s 405us/step\n",
            "訓練資料集的準確度 = 0.78\n",
            "78/78 [==============================] - 0s 70us/step\n",
            "測試資料集的準確度 = 0.72\n",
            "[0] [1]\n"
          ],
          "name": "stdout"
        }
      ]
    },
    {
      "cell_type": "code",
      "metadata": {
        "id": "l2OHRb6ZxTYN",
        "colab_type": "code",
        "colab": {}
      },
      "source": [
        ""
      ],
      "execution_count": 0,
      "outputs": []
    }
  ]
}