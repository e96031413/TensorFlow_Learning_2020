{
  "nbformat": 4,
  "nbformat_minor": 0,
  "metadata": {
    "colab": {
      "name": "09.AutoEncoder.ipynb",
      "provenance": [],
      "collapsed_sections": [],
      "authorship_tag": "ABX9TyN+kgUygRGhRiNAwmw1JaRw",
      "include_colab_link": true
    },
    "kernelspec": {
      "name": "python3",
      "display_name": "Python 3"
    }
  },
  "cells": [
    {
      "cell_type": "markdown",
      "metadata": {
        "id": "view-in-github",
        "colab_type": "text"
      },
      "source": [
        "<a href=\"https://colab.research.google.com/github/e96031413/TensorFlow_Learning_2020/blob/master/09.AutoEncoder.ipynb\" target=\"_parent\"><img src=\"https://colab.research.google.com/assets/colab-badge.svg\" alt=\"Open In Colab\"/></a>"
      ]
    },
    {
      "cell_type": "code",
      "metadata": {
        "id": "OTTszZmypOUJ",
        "colab_type": "code",
        "colab": {
          "base_uri": "https://localhost:8080/",
          "height": 1000
        },
        "outputId": "5d1b3ad1-e560-48da-a3b0-54fde02ebd0f"
      },
      "source": [
        "import numpy as np\n",
        "from keras.datasets import mnist\n",
        "from keras.models import Model\n",
        "from keras.layers import Dense, Input\n",
        "# 指定亂數種子\n",
        "seed = 7\n",
        "np.random.seed(seed)\n",
        "# 載入資料集\n",
        "(X_train, _), (X_test, _) = mnist.load_data()\n",
        "# 轉換成 28*28 = 784 的向量\n",
        "X_train = X_train.reshape(X_train.shape[0], 28*28).astype(\"float32\")\n",
        "X_test = X_test.reshape(X_test.shape[0], 28*28).astype(\"float32\")\n",
        "# 因為是固定範圍, 所以執行正規化, 從 0-255 至 0-1\n",
        "X_train = X_train / 255\n",
        "X_test = X_test / 255\n",
        "# 定義 autoencoder 模型\n",
        "input_img = Input(shape=(784,))\n",
        "x = Dense(128, activation=\"relu\")(input_img)\n",
        "encoded = Dense(64, activation=\"relu\")(x)\n",
        "x = Dense(128, activation=\"relu\")(encoded)\n",
        "decoded = Dense(784, activation=\"sigmoid\")(x)\n",
        "autoencoder = Model(input_img, decoded)\n",
        "autoencoder.summary()  # 顯示模型摘要資訊\n",
        "# 定義 encoder 模型\n",
        "encoder = Model(input_img, encoded)\n",
        "encoder.summary()    # 顯示模型摘要資訊\n",
        "# 定義 decoder 模型\n",
        "decoder_input = Input(shape=(64,))\n",
        "decoder_layer = autoencoder.layers[-2](decoder_input)\n",
        "decoder_layer = autoencoder.layers[-1](decoder_layer)\n",
        "decoder = Model(decoder_input, decoder_layer)\n",
        "decoder.summary()    # 顯示模型摘要資訊\n",
        "# 編譯模型\n",
        "autoencoder.compile(loss=\"binary_crossentropy\", optimizer=\"adam\",\n",
        "                    metrics=[\"accuracy\"])\n",
        "# 訓練模型\n",
        "autoencoder.fit(X_train, X_train, validation_data=(X_test, X_test), \n",
        "                epochs=10, batch_size=256, shuffle=True, verbose=2)\n",
        "# 壓縮圖片\n",
        "encoded_imgs = encoder.predict(X_test)\n",
        "# 解壓縮圖片\n",
        "decoded_imgs = decoder.predict(encoded_imgs)\n",
        "# 顯示原始, 壓縮和還原圖片\n",
        "import matplotlib.pyplot as plt\n",
        "n = 10  # 顯示幾個數字\n",
        "plt.figure(figsize=(20, 6))\n",
        "for i in range(n):\n",
        "    # 原始圖片\n",
        "    ax = plt.subplot(3, n, i + 1)\n",
        "    ax.imshow(X_test[i].reshape(28, 28), cmap=\"gray\")\n",
        "    ax.axis(\"off\")\n",
        "    # 壓縮圖片\n",
        "    ax = plt.subplot(3, n, i + 1 + n)\n",
        "    ax.imshow(encoded_imgs[i].reshape(8, 8), cmap=\"gray\")\n",
        "    ax.axis(\"off\")\n",
        "    # 還原圖片\n",
        "    ax = plt.subplot(3, n, i + 1 + 2*n)\n",
        "    ax.imshow(decoded_imgs[i].reshape(28, 28), cmap=\"gray\")\n",
        "    ax.axis(\"off\")\n",
        "plt.show()"
      ],
      "execution_count": 1,
      "outputs": [
        {
          "output_type": "stream",
          "text": [
            "Using TensorFlow backend.\n"
          ],
          "name": "stderr"
        },
        {
          "output_type": "display_data",
          "data": {
            "text/html": [
              "<p style=\"color: red;\">\n",
              "The default version of TensorFlow in Colab will soon switch to TensorFlow 2.x.<br>\n",
              "We recommend you <a href=\"https://www.tensorflow.org/guide/migrate\" target=\"_blank\">upgrade</a> now \n",
              "or ensure your notebook will continue to use TensorFlow 1.x via the <code>%tensorflow_version 1.x</code> magic:\n",
              "<a href=\"https://colab.research.google.com/notebooks/tensorflow_version.ipynb\" target=\"_blank\">more info</a>.</p>\n"
            ],
            "text/plain": [
              "<IPython.core.display.HTML object>"
            ]
          },
          "metadata": {
            "tags": []
          }
        },
        {
          "output_type": "stream",
          "text": [
            "Downloading data from https://s3.amazonaws.com/img-datasets/mnist.npz\n",
            "11493376/11490434 [==============================] - 0s 0us/step\n",
            "WARNING:tensorflow:From /usr/local/lib/python3.6/dist-packages/keras/backend/tensorflow_backend.py:66: The name tf.get_default_graph is deprecated. Please use tf.compat.v1.get_default_graph instead.\n",
            "\n",
            "WARNING:tensorflow:From /usr/local/lib/python3.6/dist-packages/keras/backend/tensorflow_backend.py:541: The name tf.placeholder is deprecated. Please use tf.compat.v1.placeholder instead.\n",
            "\n",
            "WARNING:tensorflow:From /usr/local/lib/python3.6/dist-packages/keras/backend/tensorflow_backend.py:4432: The name tf.random_uniform is deprecated. Please use tf.random.uniform instead.\n",
            "\n",
            "Model: \"model_1\"\n",
            "_________________________________________________________________\n",
            "Layer (type)                 Output Shape              Param #   \n",
            "=================================================================\n",
            "input_1 (InputLayer)         (None, 784)               0         \n",
            "_________________________________________________________________\n",
            "dense_1 (Dense)              (None, 128)               100480    \n",
            "_________________________________________________________________\n",
            "dense_2 (Dense)              (None, 64)                8256      \n",
            "_________________________________________________________________\n",
            "dense_3 (Dense)              (None, 128)               8320      \n",
            "_________________________________________________________________\n",
            "dense_4 (Dense)              (None, 784)               101136    \n",
            "=================================================================\n",
            "Total params: 218,192\n",
            "Trainable params: 218,192\n",
            "Non-trainable params: 0\n",
            "_________________________________________________________________\n",
            "Model: \"model_2\"\n",
            "_________________________________________________________________\n",
            "Layer (type)                 Output Shape              Param #   \n",
            "=================================================================\n",
            "input_1 (InputLayer)         (None, 784)               0         \n",
            "_________________________________________________________________\n",
            "dense_1 (Dense)              (None, 128)               100480    \n",
            "_________________________________________________________________\n",
            "dense_2 (Dense)              (None, 64)                8256      \n",
            "=================================================================\n",
            "Total params: 108,736\n",
            "Trainable params: 108,736\n",
            "Non-trainable params: 0\n",
            "_________________________________________________________________\n",
            "Model: \"model_3\"\n",
            "_________________________________________________________________\n",
            "Layer (type)                 Output Shape              Param #   \n",
            "=================================================================\n",
            "input_2 (InputLayer)         (None, 64)                0         \n",
            "_________________________________________________________________\n",
            "dense_3 (Dense)              (None, 128)               8320      \n",
            "_________________________________________________________________\n",
            "dense_4 (Dense)              (None, 784)               101136    \n",
            "=================================================================\n",
            "Total params: 109,456\n",
            "Trainable params: 109,456\n",
            "Non-trainable params: 0\n",
            "_________________________________________________________________\n",
            "WARNING:tensorflow:From /usr/local/lib/python3.6/dist-packages/keras/optimizers.py:793: The name tf.train.Optimizer is deprecated. Please use tf.compat.v1.train.Optimizer instead.\n",
            "\n",
            "WARNING:tensorflow:From /usr/local/lib/python3.6/dist-packages/keras/backend/tensorflow_backend.py:3657: The name tf.log is deprecated. Please use tf.math.log instead.\n",
            "\n",
            "WARNING:tensorflow:From /usr/local/lib/python3.6/dist-packages/tensorflow_core/python/ops/nn_impl.py:183: where (from tensorflow.python.ops.array_ops) is deprecated and will be removed in a future version.\n",
            "Instructions for updating:\n",
            "Use tf.where in 2.0, which has the same broadcast rule as np.where\n",
            "WARNING:tensorflow:From /usr/local/lib/python3.6/dist-packages/keras/backend/tensorflow_backend.py:1033: The name tf.assign_add is deprecated. Please use tf.compat.v1.assign_add instead.\n",
            "\n",
            "WARNING:tensorflow:From /usr/local/lib/python3.6/dist-packages/keras/backend/tensorflow_backend.py:1020: The name tf.assign is deprecated. Please use tf.compat.v1.assign instead.\n",
            "\n",
            "WARNING:tensorflow:From /usr/local/lib/python3.6/dist-packages/keras/backend/tensorflow_backend.py:3005: The name tf.Session is deprecated. Please use tf.compat.v1.Session instead.\n",
            "\n",
            "Train on 60000 samples, validate on 10000 samples\n",
            "Epoch 1/10\n",
            "WARNING:tensorflow:From /usr/local/lib/python3.6/dist-packages/keras/backend/tensorflow_backend.py:190: The name tf.get_default_session is deprecated. Please use tf.compat.v1.get_default_session instead.\n",
            "\n",
            "WARNING:tensorflow:From /usr/local/lib/python3.6/dist-packages/keras/backend/tensorflow_backend.py:197: The name tf.ConfigProto is deprecated. Please use tf.compat.v1.ConfigProto instead.\n",
            "\n",
            "WARNING:tensorflow:From /usr/local/lib/python3.6/dist-packages/keras/backend/tensorflow_backend.py:207: The name tf.global_variables is deprecated. Please use tf.compat.v1.global_variables instead.\n",
            "\n",
            "WARNING:tensorflow:From /usr/local/lib/python3.6/dist-packages/keras/backend/tensorflow_backend.py:216: The name tf.is_variable_initialized is deprecated. Please use tf.compat.v1.is_variable_initialized instead.\n",
            "\n",
            "WARNING:tensorflow:From /usr/local/lib/python3.6/dist-packages/keras/backend/tensorflow_backend.py:223: The name tf.variables_initializer is deprecated. Please use tf.compat.v1.variables_initializer instead.\n",
            "\n",
            " - 6s - loss: 0.2216 - acc: 0.7901 - val_loss: 0.1403 - val_acc: 0.8061\n",
            "Epoch 2/10\n",
            " - 5s - loss: 0.1244 - acc: 0.8101 - val_loss: 0.1107 - val_acc: 0.8110\n",
            "Epoch 3/10\n",
            " - 5s - loss: 0.1069 - acc: 0.8126 - val_loss: 0.1008 - val_acc: 0.8125\n",
            "Epoch 4/10\n",
            " - 5s - loss: 0.0991 - acc: 0.8135 - val_loss: 0.0948 - val_acc: 0.8130\n",
            "Epoch 5/10\n",
            " - 5s - loss: 0.0942 - acc: 0.8140 - val_loss: 0.0911 - val_acc: 0.8132\n",
            "Epoch 6/10\n",
            " - 5s - loss: 0.0910 - acc: 0.8143 - val_loss: 0.0886 - val_acc: 0.8134\n",
            "Epoch 7/10\n",
            " - 5s - loss: 0.0887 - acc: 0.8145 - val_loss: 0.0882 - val_acc: 0.8137\n",
            "Epoch 8/10\n",
            " - 5s - loss: 0.0869 - acc: 0.8146 - val_loss: 0.0851 - val_acc: 0.8138\n",
            "Epoch 9/10\n",
            " - 5s - loss: 0.0854 - acc: 0.8147 - val_loss: 0.0839 - val_acc: 0.8138\n",
            "Epoch 10/10\n",
            " - 5s - loss: 0.0841 - acc: 0.8148 - val_loss: 0.0828 - val_acc: 0.8138\n"
          ],
          "name": "stdout"
        },
        {
          "output_type": "display_data",
          "data": {
            "image/png": "[encoded data removed]",
            "text/plain": [
              "<Figure size 1440x432 with 30 Axes>"
            ]
          },
          "metadata": {
            "tags": []
          }
        }
      ]
    },
    {
      "cell_type": "code",
      "metadata": {
        "id": "HqQ_ne7DpVw8",
        "colab_type": "code",
        "colab": {}
      },
      "source": [
        ""
      ],
      "execution_count": 0,
      "outputs": []
    }
  ]
}