{
  "nbformat": 4,
  "nbformat_minor": 0,
  "metadata": {
    "colab": {
      "name": "07.鐵達尼號.ipynb",
      "provenance": [],
      "collapsed_sections": [],
      "authorship_tag": "ABX9TyN8+imS8vfh8ciAGIGuZoGn",
      "include_colab_link": true
    },
    "kernelspec": {
      "name": "python3",
      "display_name": "Python 3"
    }
  },
  "cells": [
    {
      "cell_type": "markdown",
      "metadata": {
        "id": "view-in-github",
        "colab_type": "text"
      },
      "source": [
        "<a href=\"https://colab.research.google.com/github/e96031413/TensorFlow_Learning_2020/blob/master/07_%E9%90%B5%E9%81%94%E5%B0%BC%E8%99%9F.ipynb\" target=\"_parent\"><img src=\"https://colab.research.google.com/assets/colab-badge.svg\" alt=\"Open In Colab\"/></a>"
      ]
    },
    {
      "cell_type": "code",
      "metadata": {
        "id": "8W4oybxpczMz",
        "colab_type": "code",
        "colab": {
          "base_uri": "https://localhost:8080/",
          "height": 308
        },
        "outputId": "2f4d803c-0213-49fc-99cb-7e257018034c"
      },
      "source": [
        "import pandas as pd\n",
        "import numpy as np\n",
        "\n",
        "seed = 7\n",
        "np.random.seed(seed)\n",
        "# 載入資料集\n",
        "df = pd.read_csv(\"./titanic_data.csv\")\n",
        "# 刪除不需要的欄位\n",
        "df = df.drop([\"name\", \"ticket\", \"cabin\"], axis=1)\n",
        "# 處理遺失資料\n",
        "df[[\"age\"]] = df[[\"age\"]].fillna(value=df[[\"age\"]].mean())\n",
        "df[[\"fare\"]] = df[[\"fare\"]].fillna(value=df[[\"fare\"]].mean())\n",
        "df[[\"embarked\"]] = df[[\"embarked\"]].fillna(value=df[\"embarked\"].\n",
        "                   value_counts().idxmax())\n",
        "print(df[\"embarked\"].value_counts())\n",
        "print(df[\"embarked\"].value_counts().idxmax())\n",
        "# 轉換分類資料\n",
        "df[\"sex\"] = df[\"sex\"].map( {\"female\": 1, \"male\": 0} ).astype(int)\n",
        "# Embarked欄位的One-hot編碼\n",
        "enbarked_one_hot = pd.get_dummies(df[\"embarked\"], prefix=\"embarked\")\n",
        "df = df.drop(\"embarked\", axis=1)\n",
        "df = df.join(enbarked_one_hot)\n",
        "# 將標籤的 survived 欄位移至最後\n",
        "df_survived = df.pop(\"survived\") \n",
        "df[\"survived\"] = df_survived\n",
        "print(df.head())\n",
        "df.head().to_html(\"Ch6_2_2.html\")\n",
        "# 分割成訓練(80%)和測試(20%)資料集\n",
        "mask = np.random.rand(len(df)) < 0.8\n",
        "df_train = df[mask]\n",
        "df_test = df[~mask]\n",
        "print(\"Train:\", df_train.shape)\n",
        "print(\"Test:\", df_test.shape)\n",
        "# 儲存處理後的資料\n",
        "df_train.to_csv(\"titanic_train.csv\", index=False)\n",
        "df_test.to_csv(\"titanic_test.csv\", index=False)"
      ],
      "execution_count": 2,
      "outputs": [
        {
          "output_type": "stream",
          "text": [
            "S    916\n",
            "C    270\n",
            "Q    123\n",
            "Name: embarked, dtype: int64\n",
            "S\n",
            "   pclass  sex      age  sibsp  ...  embarked_C  embarked_Q  embarked_S  survived\n",
            "0       1    1  29.0000      0  ...           0           0           1         1\n",
            "1       1    0   0.9167      1  ...           0           0           1         1\n",
            "2       1    1   2.0000      1  ...           0           0           1         0\n",
            "3       1    0  30.0000      1  ...           0           0           1         0\n",
            "4       1    1  25.0000      1  ...           0           0           1         0\n",
            "\n",
            "[5 rows x 10 columns]\n",
            "Train: (1045, 10)\n",
            "Test: (264, 10)\n"
          ],
          "name": "stdout"
        }
      ]
    },
    {
      "cell_type": "code",
      "metadata": {
        "id": "LHAVfc1Xd5sK",
        "colab_type": "code",
        "colab": {
          "base_uri": "https://localhost:8080/",
          "height": 839
        },
        "outputId": "823296a0-9c8e-4e8b-f138-050f4b0695f1"
      },
      "source": [
        "import numpy as np\n",
        "import pandas as pd\n",
        "from keras.models import Sequential\n",
        "from keras.layers import Dense\n",
        "\n",
        "seed = 7\n",
        "np.random.seed(seed)\n",
        "# 載入Titanic的訓練和測試資料集\n",
        "df_train = pd.read_csv(\"./titanic_train.csv\")\n",
        "df_test = pd.read_csv(\"./titanic_test.csv\")\n",
        "dataset_train = df_train.values\n",
        "dataset_test = df_test.values\n",
        "# 分割成特徵資料和標籤資料\n",
        "X_train = dataset_train[:, 0:9]\n",
        "Y_train = dataset_train[:, 9]\n",
        "X_test = dataset_test[:, 0:9]\n",
        "Y_test = dataset_test[:, 9]\n",
        "# 特徵標準化\n",
        "X_train -= X_train.mean(axis=0)\n",
        "X_train /= X_train.std(axis=0)\n",
        "X_test -= X_test.mean(axis=0)\n",
        "X_test /= X_test.std(axis=0)\n",
        "# 定義模型\n",
        "model = Sequential()\n",
        "model.add(Dense(11, input_dim=X_train.shape[1], activation=\"relu\"))\n",
        "model.add(Dense(11, activation=\"relu\"))\n",
        "model.add(Dense(1, activation=\"sigmoid\"))\n",
        "# 編譯模型\n",
        "model.compile(loss=\"binary_crossentropy\", optimizer=\"adam\",\n",
        "              metrics=[\"accuracy\"])\n",
        "# 訓練模型\n",
        "print(\"Training ...\")\n",
        "model.fit(X_train, Y_train, epochs=18, batch_size=10, verbose=0)\n",
        "# 評估模型\n",
        "print(\"\\nTesting ...\")\n",
        "loss, accuracy = model.evaluate(X_train, Y_train)\n",
        "print(\"訓練資料集的準確度 = {:.2f}\".format(accuracy))\n",
        "loss, accuracy = model.evaluate(X_test, Y_test)\n",
        "print(\"測試資料集的準確度 = {:.2f}\".format(accuracy))\n",
        "# 儲存Keras模型\n",
        "print(\"Saving Model: titanic.h5 ...\")\n",
        "model.save(\"titanic.h5\")"
      ],
      "execution_count": 3,
      "outputs": [
        {
          "output_type": "stream",
          "text": [
            "Using TensorFlow backend.\n"
          ],
          "name": "stderr"
        },
        {
          "output_type": "display_data",
          "data": {
            "text/html": [
              "<p style=\"color: red;\">\n",
              "The default version of TensorFlow in Colab will soon switch to TensorFlow 2.x.<br>\n",
              "We recommend you <a href=\"https://www.tensorflow.org/guide/migrate\" target=\"_blank\">upgrade</a> now \n",
              "or ensure your notebook will continue to use TensorFlow 1.x via the <code>%tensorflow_version 1.x</code> magic:\n",
              "<a href=\"https://colab.research.google.com/notebooks/tensorflow_version.ipynb\" target=\"_blank\">more info</a>.</p>\n"
            ],
            "text/plain": [
              "<IPython.core.display.HTML object>"
            ]
          },
          "metadata": {
            "tags": []
          }
        },
        {
          "output_type": "stream",
          "text": [
            "WARNING:tensorflow:From /usr/local/lib/python3.6/dist-packages/keras/backend/tensorflow_backend.py:66: The name tf.get_default_graph is deprecated. Please use tf.compat.v1.get_default_graph instead.\n",
            "\n",
            "WARNING:tensorflow:From /usr/local/lib/python3.6/dist-packages/keras/backend/tensorflow_backend.py:541: The name tf.placeholder is deprecated. Please use tf.compat.v1.placeholder instead.\n",
            "\n",
            "WARNING:tensorflow:From /usr/local/lib/python3.6/dist-packages/keras/backend/tensorflow_backend.py:4432: The name tf.random_uniform is deprecated. Please use tf.random.uniform instead.\n",
            "\n",
            "WARNING:tensorflow:From /usr/local/lib/python3.6/dist-packages/keras/optimizers.py:793: The name tf.train.Optimizer is deprecated. Please use tf.compat.v1.train.Optimizer instead.\n",
            "\n",
            "WARNING:tensorflow:From /usr/local/lib/python3.6/dist-packages/keras/backend/tensorflow_backend.py:3657: The name tf.log is deprecated. Please use tf.math.log instead.\n",
            "\n",
            "WARNING:tensorflow:From /usr/local/lib/python3.6/dist-packages/tensorflow_core/python/ops/nn_impl.py:183: where (from tensorflow.python.ops.array_ops) is deprecated and will be removed in a future version.\n",
            "Instructions for updating:\n",
            "Use tf.where in 2.0, which has the same broadcast rule as np.where\n",
            "Training ...\n",
            "WARNING:tensorflow:From /usr/local/lib/python3.6/dist-packages/keras/backend/tensorflow_backend.py:1033: The name tf.assign_add is deprecated. Please use tf.compat.v1.assign_add instead.\n",
            "\n",
            "WARNING:tensorflow:From /usr/local/lib/python3.6/dist-packages/keras/backend/tensorflow_backend.py:1020: The name tf.assign is deprecated. Please use tf.compat.v1.assign instead.\n",
            "\n",
            "WARNING:tensorflow:From /usr/local/lib/python3.6/dist-packages/keras/backend/tensorflow_backend.py:3005: The name tf.Session is deprecated. Please use tf.compat.v1.Session instead.\n",
            "\n",
            "WARNING:tensorflow:From /usr/local/lib/python3.6/dist-packages/keras/backend/tensorflow_backend.py:190: The name tf.get_default_session is deprecated. Please use tf.compat.v1.get_default_session instead.\n",
            "\n",
            "WARNING:tensorflow:From /usr/local/lib/python3.6/dist-packages/keras/backend/tensorflow_backend.py:197: The name tf.ConfigProto is deprecated. Please use tf.compat.v1.ConfigProto instead.\n",
            "\n",
            "WARNING:tensorflow:From /usr/local/lib/python3.6/dist-packages/keras/backend/tensorflow_backend.py:207: The name tf.global_variables is deprecated. Please use tf.compat.v1.global_variables instead.\n",
            "\n",
            "WARNING:tensorflow:From /usr/local/lib/python3.6/dist-packages/keras/backend/tensorflow_backend.py:216: The name tf.is_variable_initialized is deprecated. Please use tf.compat.v1.is_variable_initialized instead.\n",
            "\n",
            "WARNING:tensorflow:From /usr/local/lib/python3.6/dist-packages/keras/backend/tensorflow_backend.py:223: The name tf.variables_initializer is deprecated. Please use tf.compat.v1.variables_initializer instead.\n",
            "\n",
            "\n",
            "Testing ...\n",
            "1045/1045 [==============================] - 0s 52us/step\n",
            "訓練資料集的準確度 = 0.81\n",
            "264/264 [==============================] - 0s 43us/step\n",
            "測試資料集的準確度 = 0.82\n",
            "Saving Model: titanic.h5 ...\n"
          ],
          "name": "stdout"
        }
      ]
    },
    {
      "cell_type": "code",
      "metadata": {
        "id": "v3ALZp8UeElQ",
        "colab_type": "code",
        "colab": {
          "base_uri": "https://localhost:8080/",
          "height": 521
        },
        "outputId": "bfbc91de-937b-472d-df1e-e0237a1afcad"
      },
      "source": [
        "import numpy as np\n",
        "import pandas as pd\n",
        "from keras.models import Sequential\n",
        "from keras.models import load_model\n",
        "\n",
        "seed = 7\n",
        "np.random.seed(seed)\n",
        "# 載入Titanic的測試資料集\n",
        "df_test = pd.read_csv(\"./titanic_test.csv\")\n",
        "dataset_test = df_test.values\n",
        "# 分割成特徵資料和標籤資料\n",
        "X_test = dataset_test[:, 0:9]\n",
        "Y_test = dataset_test[:, 9]\n",
        "# 特徵標準化\n",
        "X_test -= X_test.mean(axis=0)\n",
        "X_test /= X_test.std(axis=0)\n",
        "# 建立Keras的Sequential模型\n",
        "model = Sequential()\n",
        "model = load_model(\"titanic.h5\")\n",
        "# 編譯模型\n",
        "model.compile(loss=\"binary_crossentropy\", optimizer=\"adam\",\n",
        "              metrics=[\"accuracy\"])\n",
        "# 評估模型\n",
        "print(\"\\nTesting ...\")\n",
        "loss, accuracy = model.evaluate(X_test, Y_test)\n",
        "print(\"測試資料集的準確度 = {:.2f}\".format(accuracy))\n",
        "# 計算分類的預測值\n",
        "print(\"\\nPredicting ...\")\n",
        "Y_pred = model.predict_classes(X_test)\n",
        "print(Y_pred[:,0])\n",
        "print(Y_test.astype(int))\n",
        "# 顯示混淆矩陣\n",
        "tb = pd.crosstab(Y_test.astype(int), Y_pred[:,0],\n",
        "                 rownames=[\"label\"], colnames=[\"predict\"])\n",
        "print(tb)\n",
        "tb.to_html(\"Ch6_2_4.html\")"
      ],
      "execution_count": 4,
      "outputs": [
        {
          "output_type": "stream",
          "text": [
            "\n",
            "Testing ...\n",
            "264/264 [==============================] - 0s 625us/step\n",
            "測試資料集的準確度 = 0.82\n",
            "\n",
            "Predicting ...\n",
            "[1 1 0 1 1 1 1 0 0 1 1 0 0 1 1 0 0 1 0 1 1 1 0 1 0 0 1 1 0 0 1 0 0 1 0 1 0\n",
            " 0 0 0 0 0 1 0 1 0 0 1 0 1 1 1 0 0 1 1 1 1 0 0 0 1 1 1 0 1 1 0 0 0 1 0 0 0\n",
            " 1 1 0 1 0 0 1 1 0 1 0 0 1 1 0 0 0 0 0 0 0 1 0 0 1 0 1 0 0 0 1 1 1 1 0 0 0\n",
            " 0 1 1 0 0 0 0 0 0 1 0 1 0 0 0 1 1 1 0 1 0 0 0 0 0 0 0 1 0 1 0 1 0 0 0 0 1\n",
            " 0 0 0 0 0 0 0 0 0 0 0 0 0 1 0 0 0 0 0 0 0 0 0 0 1 1 0 0 0 0 0 0 0 0 0 0 0\n",
            " 0 0 0 0 0 0 0 0 0 0 0 0 0 1 0 0 0 0 0 0 0 0 1 1 0 0 0 0 0 1 1 0 0 1 0 0 0\n",
            " 0 0 0 0 1 0 0 0 0 0 0 0 0 0 0 0 0 0 1 0 0 0 0 0 0 1 0 0 0 0 0 0 1 0 0 0 1\n",
            " 0 0 1 1 0]\n",
            "[0 1 0 1 1 1 1 1 0 1 1 1 0 1 1 1 1 1 0 0 0 1 0 1 0 1 1 1 0 0 1 0 1 1 0 1 0\n",
            " 1 0 0 0 0 1 0 1 0 1 1 0 1 1 1 0 0 1 1 1 1 0 0 0 0 1 1 0 0 1 0 0 0 1 0 0 0\n",
            " 1 1 0 1 0 0 1 1 0 1 0 0 1 0 0 0 0 0 0 0 0 1 0 0 1 0 0 1 0 0 0 1 1 1 0 0 1\n",
            " 0 1 1 0 0 1 1 0 0 1 1 1 0 0 0 1 1 1 0 1 0 0 1 0 0 1 0 1 0 1 1 1 0 0 0 0 0\n",
            " 0 0 0 0 0 1 0 0 1 0 1 0 0 1 0 0 0 0 0 1 0 0 0 0 1 1 0 0 0 0 0 0 0 1 0 1 1\n",
            " 0 1 0 0 0 0 0 0 1 0 1 0 0 0 0 1 0 0 0 1 0 1 0 0 0 0 0 0 0 1 1 0 1 1 0 0 0\n",
            " 0 0 0 0 1 0 0 0 0 0 0 0 0 0 0 0 1 0 1 0 0 0 0 0 1 0 0 0 0 0 0 0 0 0 0 0 1\n",
            " 0 0 0 0 0]\n",
            "predict    0   1\n",
            "label           \n",
            "0        153  16\n",
            "1         32  63\n"
          ],
          "name": "stdout"
        }
      ]
    },
    {
      "cell_type": "code",
      "metadata": {
        "id": "G80MOdXIeQYI",
        "colab_type": "code",
        "colab": {}
      },
      "source": [
        ""
      ],
      "execution_count": 0,
      "outputs": []
    }
  ]
}