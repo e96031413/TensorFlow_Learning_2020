{
 "cells": [
  {
   "cell_type": "code",
   "execution_count": 13,
   "metadata": {},
   "outputs": [
    {
     "name": "stdout",
     "output_type": "stream",
     "text": [
      "10.5\n",
      "0\n"
     ]
    }
   ],
   "source": [
    "import numpy as np\n",
    "x = np.array(10.5)\n",
    "print(x)\n",
    "print(x.ndim)   #ndim為軸數"
   ]
  },
  {
   "cell_type": "code",
   "execution_count": 14,
   "metadata": {},
   "outputs": [
    {
     "name": "stdout",
     "output_type": "stream",
     "text": [
      "[ 1.2  5.5  8.7 10.5]\n",
      "1\n"
     ]
    }
   ],
   "source": [
    "x = np.array([1.2, 5.5, 8.7, 10.5])\n",
    "print(x)\n",
    "print(x.ndim)"
   ]
  },
  {
   "cell_type": "code",
   "execution_count": 15,
   "metadata": {},
   "outputs": [
    {
     "name": "stdout",
     "output_type": "stream",
     "text": [
      "[[1.2 5.5 8.7 8.5]\n",
      " [2.2 4.3 6.5 9.5]\n",
      " [6.2 7.3 1.5 3.5]]\n",
      "2\n",
      "(3, 4)\n"
     ]
    }
   ],
   "source": [
    "x = np.array([[1.2,5.5,8.7,8.5],\n",
    "             [2.2,4.3,6.5,9.5],\n",
    "             [6.2,7.3,1.5,3.5]])\n",
    "print(x)\n",
    "print(x.ndim)\n",
    "print(x.shape)"
   ]
  },
  {
   "cell_type": "code",
   "execution_count": 16,
   "metadata": {},
   "outputs": [
    {
     "name": "stdout",
     "output_type": "stream",
     "text": [
      "[[[1.2 5.5 3.3]\n",
      "  [8.7 8.5 4.4]]\n",
      "\n",
      " [[2.2 4.3 5.5]\n",
      "  [6.5 9.5 6.6]]\n",
      "\n",
      " [[6.2 7.3 7.7]\n",
      "  [1.5 3.5 8.8]]]\n",
      "3\n",
      "(3, 2, 3)\n"
     ]
    }
   ],
   "source": [
    "x = np.array([[[1.2,5.5,3.3],\n",
    "                [8.7,8.5,4.4]],\n",
    "               [[2.2,4.3,5.5],\n",
    "                [6.5,9.5,6.6]],\n",
    "               [[6.2,7.3,7.7],\n",
    "                [1.5,3.5,8.8]]])\n",
    "print(x)\n",
    "print(x.ndim)\n",
    "print(x.shape)"
   ]
  },
  {
   "cell_type": "code",
   "execution_count": 18,
   "metadata": {},
   "outputs": [
    {
     "name": "stdout",
     "output_type": "stream",
     "text": [
      "a=\n",
      "[[1 2]\n",
      " [3 4]]\n",
      "s=\n",
      "[[5 6]\n",
      " [7 8]]\n",
      "a+s=\n",
      "[[ 6  8]\n",
      " [10 12]]\n",
      "a-s=\n",
      "[[-4 -4]\n",
      " [-4 -4]]\n",
      "a*s=\n",
      "[[ 5 12]\n",
      " [21 32]]\n",
      "a/s=\n",
      "[[0.2        0.33333333]\n",
      " [0.42857143 0.5       ]]\n"
     ]
    }
   ],
   "source": [
    "a = np.array([[1,2],[3,4]])\n",
    "print(\"a=\")\n",
    "print(a)\n",
    "\n",
    "s = np.array([[5,6],[7,8]])\n",
    "print(\"s=\")\n",
    "print(s)\n",
    "\n",
    "b = a + s\n",
    "print(\"a+s=\")\n",
    "print(b)\n",
    "\n",
    "b = a - s \n",
    "print(\"a-s=\")\n",
    "print(b)\n",
    "\n",
    "b= a * s\n",
    "print(\"a*s=\")\n",
    "print(b)\n",
    "\n",
    "b = a / s\n",
    "print(\"a/s=\")\n",
    "print(b)"
   ]
  },
  {
   "cell_type": "code",
   "execution_count": 22,
   "metadata": {},
   "outputs": [
    {
     "name": "stdout",
     "output_type": "stream",
     "text": [
      "a=\n",
      "[[1 2]\n",
      " [3 4]]\n",
      "s=\n",
      "[[5 6]\n",
      " [7 8]]\n",
      "a.dot(s)=\n",
      "[[19 22]\n",
      " [43 50]]\n"
     ]
    }
   ],
   "source": [
    "a = np.array([[1,2],[3,4]])\n",
    "print(\"a=\")\n",
    "print(a)\n",
    "\n",
    "s = np.array([[5,6],[7,8]])\n",
    "print(\"s=\")\n",
    "print(s)\n",
    "\n",
    "b = a.dot(s)\n",
    "print(\"a.dot(s)=\")\n",
    "print(b)"
   ]
  }
 ],
 "metadata": {
  "kernelspec": {
   "display_name": "Python 3",
   "language": "python",
   "name": "python3"
  },
  "language_info": {
   "codemirror_mode": {
    "name": "ipython",
    "version": 3
   },
   "file_extension": ".py",
   "mimetype": "text/x-python",
   "name": "python",
   "nbconvert_exporter": "python",
   "pygments_lexer": "ipython3",
   "version": "3.7.3"
  },
  "toc": {
   "base_numbering": 1,
   "nav_menu": {},
   "number_sections": true,
   "sideBar": true,
   "skip_h1_title": false,
   "title_cell": "Table of Contents",
   "title_sidebar": "Contents",
   "toc_cell": false,
   "toc_position": {},
   "toc_section_display": true,
   "toc_window_display": false
  }
 },
 "nbformat": 4,
 "nbformat_minor": 2
}
